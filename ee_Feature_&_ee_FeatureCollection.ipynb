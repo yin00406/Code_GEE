{
  "nbformat": 4,
  "nbformat_minor": 0,
  "metadata": {
    "colab": {
      "provenance": [],
      "authorship_tag": "ABX9TyN1gWwwNZgV1Emltk/ODikq",
      "include_colab_link": true
    },
    "kernelspec": {
      "name": "python3",
      "display_name": "Python 3"
    },
    "language_info": {
      "name": "python"
    }
  },
  "cells": [
    {
      "cell_type": "markdown",
      "metadata": {
        "id": "view-in-github",
        "colab_type": "text"
      },
      "source": [
        "<a href=\"https://colab.research.google.com/github/yin00406/Code_GEE/blob/main/ee_Feature_%26_ee_FeatureCollection.ipynb\" target=\"_parent\"><img src=\"https://colab.research.google.com/assets/colab-badge.svg\" alt=\"Open In Colab\"/></a>"
      ]
    },
    {
      "cell_type": "code",
      "source": [],
      "metadata": {
        "id": "Ue14qjNM9c3E"
      },
      "execution_count": null,
      "outputs": []
    },
    {
      "cell_type": "markdown",
      "source": [
        "# ee.Feature()"
      ],
      "metadata": {
        "id": "XOtILJnK9fJU"
      }
    },
    {
      "cell_type": "markdown",
      "source": [
        "get property names of ee.Feature\n",
        "```\n",
        "function getPropertyNames(featureCollection) {\n",
        "  // Get the first feature from the collection\n",
        "  var firstFeature = ee.Feature(featureCollection.first());\n",
        "  \n",
        "  // Retrieve property names from the first feature\n",
        "  var propertyNames = firstFeature.propertyNames();\n",
        "  \n",
        "  return propertyNames;\n",
        "}\n",
        "```"
      ],
      "metadata": {
        "id": "yrgUz0S49sJh"
      }
    },
    {
      "cell_type": "markdown",
      "source": [
        "# ee.FeatureCollection"
      ],
      "metadata": {
        "id": "tJZ5vH0G9iMX"
      }
    },
    {
      "cell_type": "code",
      "source": [],
      "metadata": {
        "id": "2_jhsExQ9kJp"
      },
      "execution_count": null,
      "outputs": []
    }
  ]
}