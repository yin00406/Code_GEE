{
  "nbformat": 4,
  "nbformat_minor": 0,
  "metadata": {
    "colab": {
      "provenance": [],
      "authorship_tag": "ABX9TyOwnUw5Kcw9O4PYNS9DtLdH",
      "include_colab_link": true
    },
    "kernelspec": {
      "name": "python3",
      "display_name": "Python 3"
    },
    "language_info": {
      "name": "python"
    }
  },
  "cells": [
    {
      "cell_type": "markdown",
      "metadata": {
        "id": "view-in-github",
        "colab_type": "text"
      },
      "source": [
        "<a href=\"https://colab.research.google.com/github/yin00406/Code_GEE/blob/main/ee_Image_%26_ee_ImageCollection.ipynb\" target=\"_parent\"><img src=\"https://colab.research.google.com/assets/colab-badge.svg\" alt=\"Open In Colab\"/></a>"
      ]
    },
    {
      "cell_type": "markdown",
      "source": [
        "# ee.Image"
      ],
      "metadata": {
        "id": "OKIDFeqK2_TT"
      }
    },
    {
      "cell_type": "markdown",
      "source": [
        "add 2 to every pixels in the image: `ee.Image.add(2)`\n",
        "\n",
        "get any band from an image with band name `band_1`: `ee.Image.select(band_1)`\n",
        "\n",
        "get band names of an image: `ee.Image.bandNames()`\n",
        "\n",
        "get the number of bands: `ee.Image.bandNames().size()`"
      ],
      "metadata": {
        "id": "5UXv_VW-2IBe"
      }
    },
    {
      "cell_type": "markdown",
      "source": [
        "# ee.ImageCollection"
      ],
      "metadata": {
        "id": "2tPPas1J3NZJ"
      }
    },
    {
      "cell_type": "markdown",
      "source": [
        "get the frist image in ImageCollection: `ee.ImageCollection.first()`"
      ],
      "metadata": {
        "id": "ugGsZqWM3dkN"
      }
    }
  ]
}